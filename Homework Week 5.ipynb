{
 "cells": [
  {
   "cell_type": "markdown",
   "metadata": {},
   "source": [
    "Question: What does Pandas stand for?\n",
    "Answer: \n",
    "Panel Data \n",
    "\n",
    "Question : What are the 2 collections used in Pandas?\n",
    "Answer : Series , Data Frame \n",
    "\n",
    "Question: Name 4 things Pandas can do for us.\n",
    "Answer: Modelize , Analyze , Prepare , Load Data \n",
    "\n",
    "Question :To permanently sort a DataFrame, which keyword should one use with the df.sort() method\n",
    "Answer: To permanently sort a DataFrame using df.sort_values(), you can use the inplace keyword argument\n",
    "\n",
    "Q: What is a CSV?\n",
    "\n",
    "A: CSV stands for \"comma-separated values\" \n",
    "\n",
    "\n",
    "\n",
    "\n",
    "Q:When cleaning data what values do we not like in our data?\n",
    "A: NAN Not A Number , out of order , not in order \n",
    "\n",
    "\n"
   ]
  }
 ],
 "metadata": {
  "language_info": {
   "name": "python"
  }
 },
 "nbformat": 4,
 "nbformat_minor": 2
}
